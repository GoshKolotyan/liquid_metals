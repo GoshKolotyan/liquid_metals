{
 "cells": [
  {
   "cell_type": "code",
   "execution_count": 1,
   "metadata": {},
   "outputs": [],
   "source": [
    "import pandas as pd "
   ]
  },
  {
   "cell_type": "code",
   "execution_count": 2,
   "metadata": {},
   "outputs": [],
   "source": [
    "df_hw = pd.read_csv('../Data/cleaned_data.csv')\n",
    "df_out = pd.read_csv('../Data/filtered_liquidus_data_simple.csv').rename(columns={\n",
    "    \"composition\":\"System_Name\",\n",
    "    \"temperature\":\"Tm (Liquidus)\"\n",
    "})"
   ]
  },
  {
   "cell_type": "code",
   "execution_count": 5,
   "metadata": {},
   "outputs": [
    {
     "data": {
      "application/vnd.microsoft.datawrangler.viewer.v0+json": {
       "columns": [
        {
         "name": "index",
         "rawType": "int64",
         "type": "integer"
        },
        {
         "name": "System_Name",
         "rawType": "object",
         "type": "string"
        },
        {
         "name": "Tm (Liquidus)",
         "rawType": "float64",
         "type": "float"
        }
       ],
       "conversionMethod": "pd.DataFrame",
       "ref": "df34e0b3-700e-4d13-9755-949242da30d4",
       "rows": [
        [
         "0",
         "Ag0.01Cu0.99",
         "1349.61"
        ],
        [
         "1",
         "Ag0.01Ga0.99",
         "408.98"
        ],
        [
         "2",
         "Ag0.01Sb0.99",
         "900.39"
        ],
        [
         "3",
         "Ag0.01Sn0.99",
         "501.95"
        ],
        [
         "4",
         "Ag0.01Zn0.99",
         "700.39"
        ]
       ],
       "shape": {
        "columns": 2,
        "rows": 5
       }
      },
      "text/html": [
       "<div>\n",
       "<style scoped>\n",
       "    .dataframe tbody tr th:only-of-type {\n",
       "        vertical-align: middle;\n",
       "    }\n",
       "\n",
       "    .dataframe tbody tr th {\n",
       "        vertical-align: top;\n",
       "    }\n",
       "\n",
       "    .dataframe thead th {\n",
       "        text-align: right;\n",
       "    }\n",
       "</style>\n",
       "<table border=\"1\" class=\"dataframe\">\n",
       "  <thead>\n",
       "    <tr style=\"text-align: right;\">\n",
       "      <th></th>\n",
       "      <th>System_Name</th>\n",
       "      <th>Tm (Liquidus)</th>\n",
       "    </tr>\n",
       "  </thead>\n",
       "  <tbody>\n",
       "    <tr>\n",
       "      <th>0</th>\n",
       "      <td>Ag0.01Cu0.99</td>\n",
       "      <td>1349.61</td>\n",
       "    </tr>\n",
       "    <tr>\n",
       "      <th>1</th>\n",
       "      <td>Ag0.01Ga0.99</td>\n",
       "      <td>408.98</td>\n",
       "    </tr>\n",
       "    <tr>\n",
       "      <th>2</th>\n",
       "      <td>Ag0.01Sb0.99</td>\n",
       "      <td>900.39</td>\n",
       "    </tr>\n",
       "    <tr>\n",
       "      <th>3</th>\n",
       "      <td>Ag0.01Sn0.99</td>\n",
       "      <td>501.95</td>\n",
       "    </tr>\n",
       "    <tr>\n",
       "      <th>4</th>\n",
       "      <td>Ag0.01Zn0.99</td>\n",
       "      <td>700.39</td>\n",
       "    </tr>\n",
       "  </tbody>\n",
       "</table>\n",
       "</div>"
      ],
      "text/plain": [
       "    System_Name  Tm (Liquidus)\n",
       "0  Ag0.01Cu0.99        1349.61\n",
       "1  Ag0.01Ga0.99         408.98\n",
       "2  Ag0.01Sb0.99         900.39\n",
       "3  Ag0.01Sn0.99         501.95\n",
       "4  Ag0.01Zn0.99         700.39"
      ]
     },
     "execution_count": 5,
     "metadata": {},
     "output_type": "execute_result"
    }
   ],
   "source": [
    "df_out.head(5)"
   ]
  },
  {
   "cell_type": "code",
   "execution_count": 6,
   "metadata": {},
   "outputs": [
    {
     "data": {
      "application/vnd.microsoft.datawrangler.viewer.v0+json": {
       "columns": [
        {
         "name": "index",
         "rawType": "int64",
         "type": "integer"
        },
        {
         "name": "System_Name",
         "rawType": "object",
         "type": "string"
        },
        {
         "name": "Tm (Liquidus)",
         "rawType": "float64",
         "type": "float"
        }
       ],
       "conversionMethod": "pd.DataFrame",
       "ref": "13fa605c-0ef5-47ef-9bd2-5fd55b26c174",
       "rows": [
        [
         "0",
         "Hg",
         "-38.9"
        ],
        [
         "1",
         "Cs",
         "28.4"
        ],
        [
         "2",
         "Ga",
         "29.8"
        ],
        [
         "3",
         "Rb",
         "39.5"
        ],
        [
         "4",
         "K",
         "63.2"
        ]
       ],
       "shape": {
        "columns": 2,
        "rows": 5
       }
      },
      "text/html": [
       "<div>\n",
       "<style scoped>\n",
       "    .dataframe tbody tr th:only-of-type {\n",
       "        vertical-align: middle;\n",
       "    }\n",
       "\n",
       "    .dataframe tbody tr th {\n",
       "        vertical-align: top;\n",
       "    }\n",
       "\n",
       "    .dataframe thead th {\n",
       "        text-align: right;\n",
       "    }\n",
       "</style>\n",
       "<table border=\"1\" class=\"dataframe\">\n",
       "  <thead>\n",
       "    <tr style=\"text-align: right;\">\n",
       "      <th></th>\n",
       "      <th>System_Name</th>\n",
       "      <th>Tm (Liquidus)</th>\n",
       "    </tr>\n",
       "  </thead>\n",
       "  <tbody>\n",
       "    <tr>\n",
       "      <th>0</th>\n",
       "      <td>Hg</td>\n",
       "      <td>-38.9</td>\n",
       "    </tr>\n",
       "    <tr>\n",
       "      <th>1</th>\n",
       "      <td>Cs</td>\n",
       "      <td>28.4</td>\n",
       "    </tr>\n",
       "    <tr>\n",
       "      <th>2</th>\n",
       "      <td>Ga</td>\n",
       "      <td>29.8</td>\n",
       "    </tr>\n",
       "    <tr>\n",
       "      <th>3</th>\n",
       "      <td>Rb</td>\n",
       "      <td>39.5</td>\n",
       "    </tr>\n",
       "    <tr>\n",
       "      <th>4</th>\n",
       "      <td>K</td>\n",
       "      <td>63.2</td>\n",
       "    </tr>\n",
       "  </tbody>\n",
       "</table>\n",
       "</div>"
      ],
      "text/plain": [
       "  System_Name  Tm (Liquidus)\n",
       "0          Hg          -38.9\n",
       "1          Cs           28.4\n",
       "2          Ga           29.8\n",
       "3          Rb           39.5\n",
       "4           K           63.2"
      ]
     },
     "execution_count": 6,
     "metadata": {},
     "output_type": "execute_result"
    }
   ],
   "source": [
    "df_hw.head(5)"
   ]
  },
  {
   "cell_type": "code",
   "execution_count": 7,
   "metadata": {},
   "outputs": [],
   "source": [
    "conc_all = pd.concat([df_out, df_hw])"
   ]
  },
  {
   "cell_type": "code",
   "execution_count": 8,
   "metadata": {},
   "outputs": [
    {
     "data": {
      "application/vnd.microsoft.datawrangler.viewer.v0+json": {
       "columns": [
        {
         "name": "index",
         "rawType": "int64",
         "type": "integer"
        },
        {
         "name": "System_Name",
         "rawType": "object",
         "type": "string"
        },
        {
         "name": "Tm (Liquidus)",
         "rawType": "float64",
         "type": "float"
        }
       ],
       "conversionMethod": "pd.DataFrame",
       "ref": "dfc581ce-21bf-4870-9352-d04b1b44aac7",
       "rows": [
        [
         "0",
         "Ag0.01Cu0.99",
         "1349.61"
        ],
        [
         "1",
         "Ag0.01Ga0.99",
         "408.98"
        ],
        [
         "2",
         "Ag0.01Sb0.99",
         "900.39"
        ],
        [
         "3",
         "Ag0.01Sn0.99",
         "501.95"
        ],
        [
         "4",
         "Ag0.01Zn0.99",
         "700.39"
        ],
        [
         "5",
         "Ag0.02Cu0.98",
         "1341.8"
        ],
        [
         "6",
         "Ag0.02Ga0.98",
         "445.7"
        ],
        [
         "7",
         "Ag0.02Sb0.98",
         "896.48"
        ],
        [
         "8",
         "Ag0.02Sn0.98",
         "499.61"
        ],
        [
         "9",
         "Ag0.02Zn0.98",
         "708.2"
        ],
        [
         "10",
         "Ag0.03Cu0.97",
         "1333.98"
        ],
        [
         "11",
         "Ag0.03Ga0.97",
         "470.7"
        ],
        [
         "12",
         "Ag0.03Sb0.97",
         "893.36"
        ],
        [
         "13",
         "Ag0.03Sn0.97",
         "496.48"
        ],
        [
         "14",
         "Ag0.03Zn0.97",
         "728.52"
        ],
        [
         "15",
         "Ag0.04Cu0.96",
         "1326.17"
        ],
        [
         "16",
         "Ag0.04Ga0.96",
         "489.45"
        ],
        [
         "17",
         "Ag0.04Sb0.96",
         "889.45"
        ],
        [
         "18",
         "Ag0.04Sn0.96",
         "493.36"
        ],
        [
         "19",
         "Ag0.04Zn0.96",
         "745.7"
        ],
        [
         "20",
         "Ag0.05Cu0.95",
         "1318.36"
        ],
        [
         "21",
         "Ag0.05Ga0.95",
         "505.08"
        ],
        [
         "22",
         "Ag0.05Sb0.95",
         "885.55"
        ],
        [
         "23",
         "Ag0.05Sn0.95",
         "513.67"
        ],
        [
         "24",
         "Ag0.05Zn0.95",
         "761.33"
        ],
        [
         "25",
         "Ag0.06Cu0.94",
         "1311.33"
        ],
        [
         "26",
         "Ag0.06Ga0.94",
         "518.36"
        ],
        [
         "27",
         "Ag0.06Sb0.94",
         "881.64"
        ],
        [
         "28",
         "Ag0.06Sn0.94",
         "530.86"
        ],
        [
         "29",
         "Ag0.06Zn0.94",
         "774.61"
        ],
        [
         "30",
         "Ag0.07Cu0.93",
         "1303.52"
        ],
        [
         "31",
         "Ag0.07Ga0.93",
         "530.08"
        ],
        [
         "32",
         "Ag0.07Sb0.93",
         "877.73"
        ],
        [
         "33",
         "Ag0.07Sn0.93",
         "546.48"
        ],
        [
         "34",
         "Ag0.07Zn0.93",
         "786.33"
        ],
        [
         "35",
         "Ag0.08Cu0.92",
         "1296.48"
        ],
        [
         "36",
         "Ag0.08Ga0.92",
         "540.23"
        ],
        [
         "37",
         "Ag0.08Sb0.92",
         "873.83"
        ],
        [
         "38",
         "Ag0.08Sn0.92",
         "559.77"
        ],
        [
         "39",
         "Ag0.08Zn0.92",
         "798.05"
        ],
        [
         "40",
         "Ag0.09Cu0.91",
         "1289.45"
        ],
        [
         "41",
         "Ag0.09Ga0.91",
         "548.83"
        ],
        [
         "42",
         "Ag0.09Sb0.91",
         "870.7"
        ],
        [
         "43",
         "Ag0.09Sn0.91",
         "572.27"
        ],
        [
         "44",
         "Ag0.09Zn0.91",
         "808.2"
        ],
        [
         "45",
         "Ag0.10Cu0.90",
         "1282.42"
        ],
        [
         "46",
         "Ag0.10Ga0.90",
         "556.64"
        ],
        [
         "47",
         "Ag0.10Sb0.90",
         "866.8"
        ],
        [
         "48",
         "Ag0.10Sn0.90",
         "583.2"
        ],
        [
         "49",
         "Ag0.10Zn0.90",
         "817.58"
        ]
       ],
       "shape": {
        "columns": 2,
        "rows": 4176
       }
      },
      "text/html": [
       "<div>\n",
       "<style scoped>\n",
       "    .dataframe tbody tr th:only-of-type {\n",
       "        vertical-align: middle;\n",
       "    }\n",
       "\n",
       "    .dataframe tbody tr th {\n",
       "        vertical-align: top;\n",
       "    }\n",
       "\n",
       "    .dataframe thead th {\n",
       "        text-align: right;\n",
       "    }\n",
       "</style>\n",
       "<table border=\"1\" class=\"dataframe\">\n",
       "  <thead>\n",
       "    <tr style=\"text-align: right;\">\n",
       "      <th></th>\n",
       "      <th>System_Name</th>\n",
       "      <th>Tm (Liquidus)</th>\n",
       "    </tr>\n",
       "  </thead>\n",
       "  <tbody>\n",
       "    <tr>\n",
       "      <th>0</th>\n",
       "      <td>Ag0.01Cu0.99</td>\n",
       "      <td>1349.61</td>\n",
       "    </tr>\n",
       "    <tr>\n",
       "      <th>1</th>\n",
       "      <td>Ag0.01Ga0.99</td>\n",
       "      <td>408.98</td>\n",
       "    </tr>\n",
       "    <tr>\n",
       "      <th>2</th>\n",
       "      <td>Ag0.01Sb0.99</td>\n",
       "      <td>900.39</td>\n",
       "    </tr>\n",
       "    <tr>\n",
       "      <th>3</th>\n",
       "      <td>Ag0.01Sn0.99</td>\n",
       "      <td>501.95</td>\n",
       "    </tr>\n",
       "    <tr>\n",
       "      <th>4</th>\n",
       "      <td>Ag0.01Zn0.99</td>\n",
       "      <td>700.39</td>\n",
       "    </tr>\n",
       "    <tr>\n",
       "      <th>...</th>\n",
       "      <td>...</td>\n",
       "      <td>...</td>\n",
       "    </tr>\n",
       "    <tr>\n",
       "      <th>98</th>\n",
       "      <td>Ga40Sb20Sn40</td>\n",
       "      <td>560.50</td>\n",
       "    </tr>\n",
       "    <tr>\n",
       "      <th>99</th>\n",
       "      <td>Ga30Sb40Sn30</td>\n",
       "      <td>628.90</td>\n",
       "    </tr>\n",
       "    <tr>\n",
       "      <th>100</th>\n",
       "      <td>Ga20Sb60Sn20</td>\n",
       "      <td>623.60</td>\n",
       "    </tr>\n",
       "    <tr>\n",
       "      <th>101</th>\n",
       "      <td>Ga10Sb80Sn10</td>\n",
       "      <td>577.70</td>\n",
       "    </tr>\n",
       "    <tr>\n",
       "      <th>102</th>\n",
       "      <td>Ga30Sb30Sn40</td>\n",
       "      <td>593.80</td>\n",
       "    </tr>\n",
       "  </tbody>\n",
       "</table>\n",
       "<p>4176 rows × 2 columns</p>\n",
       "</div>"
      ],
      "text/plain": [
       "      System_Name  Tm (Liquidus)\n",
       "0    Ag0.01Cu0.99        1349.61\n",
       "1    Ag0.01Ga0.99         408.98\n",
       "2    Ag0.01Sb0.99         900.39\n",
       "3    Ag0.01Sn0.99         501.95\n",
       "4    Ag0.01Zn0.99         700.39\n",
       "..            ...            ...\n",
       "98   Ga40Sb20Sn40         560.50\n",
       "99   Ga30Sb40Sn30         628.90\n",
       "100  Ga20Sb60Sn20         623.60\n",
       "101  Ga10Sb80Sn10         577.70\n",
       "102  Ga30Sb30Sn40         593.80\n",
       "\n",
       "[4176 rows x 2 columns]"
      ]
     },
     "execution_count": 8,
     "metadata": {},
     "output_type": "execute_result"
    }
   ],
   "source": [
    "conc_all"
   ]
  },
  {
   "cell_type": "code",
   "execution_count": 10,
   "metadata": {},
   "outputs": [],
   "source": [
    "conc_all.to_csv('../Data/Merged_All.csv', index=False)"
   ]
  },
  {
   "cell_type": "code",
   "execution_count": null,
   "metadata": {},
   "outputs": [],
   "source": []
  }
 ],
 "metadata": {
  "kernelspec": {
   "display_name": "lm-venv",
   "language": "python",
   "name": "python3"
  },
  "language_info": {
   "codemirror_mode": {
    "name": "ipython",
    "version": 3
   },
   "file_extension": ".py",
   "mimetype": "text/x-python",
   "name": "python",
   "nbconvert_exporter": "python",
   "pygments_lexer": "ipython3",
   "version": "3.12.2"
  }
 },
 "nbformat": 4,
 "nbformat_minor": 2
}
